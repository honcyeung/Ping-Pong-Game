{
 "cells": [
  {
   "cell_type": "code",
   "execution_count": null,
   "id": "73852523",
   "metadata": {},
   "outputs": [],
   "source": [
    "from turtle import Screen\n",
    "from paddle import *\n",
    "from ball import *\n",
    "import time\n",
    "from scoreboard import *"
   ]
  },
  {
   "cell_type": "code",
   "execution_count": null,
   "id": "ee571ce9",
   "metadata": {},
   "outputs": [],
   "source": [
    "screen = Screen()\n",
    "screen.clear()\n",
    "screen.setup(width = 800, height = 600)\n",
    "screen.bgcolor('black')\n",
    "screen.title('pong')\n",
    "screen.tracer(0)\n",
    "\n",
    "r_paddle = Paddle((350, 0))\n",
    "l_paddle = Paddle((-350, 0))\n",
    "\n",
    "screen.listen()\n",
    "screen.onkey(r_paddle.up, 'Up')\n",
    "screen.onkey(r_paddle.down, 'Down')\n",
    "screen.onkey(l_paddle.up, 'w')\n",
    "screen.onkey(l_paddle.down, 's')\n",
    "\n",
    "ball = Ball()\n",
    "scoreboard = Scoreboard()\n",
    "\n",
    "game_is_on = True\n",
    "while game_is_on:\n",
    "    \n",
    "    time.sleep(ball.move_speed)\n",
    "    screen.update()\n",
    "    ball.move()\n",
    "    \n",
    "    # detect collison with wall\n",
    "    if ball.ycor() >= 280 or ball.ycor() <= -280:\n",
    "        ball.bounce_y()\n",
    "    \n",
    "    # detect collision with paddles\n",
    "    if (ball.distance(r_paddle) < 50 and ball.xcor() > 320) or (ball.distance(l_paddle) < 50 and ball.xcor() < -320):\n",
    "        ball.bounce_x()\n",
    "    \n",
    "    # if right paddle misses the ball\n",
    "    if ball.xcor() > 380:\n",
    "        ball.reset_position()\n",
    "        scoreboard.l_point()\n",
    "        \n",
    "    # if left paddle misses the ball\n",
    "    if ball.xcor() < -380:\n",
    "        ball.reset_position()\n",
    "        scoreboard.r_point()\n",
    "    \n",
    "\n",
    "screen.exitonclick()"
   ]
  },
  {
   "cell_type": "code",
   "execution_count": null,
   "id": "d84f40ee",
   "metadata": {},
   "outputs": [],
   "source": []
  }
 ],
 "metadata": {
  "kernelspec": {
   "display_name": "Python 3",
   "language": "python",
   "name": "python3"
  },
  "language_info": {
   "codemirror_mode": {
    "name": "ipython",
    "version": 3
   },
   "file_extension": ".py",
   "mimetype": "text/x-python",
   "name": "python",
   "nbconvert_exporter": "python",
   "pygments_lexer": "ipython3",
   "version": "3.8.11"
  }
 },
 "nbformat": 4,
 "nbformat_minor": 5
}
